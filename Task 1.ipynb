{
 "cells": [
  {
   "cell_type": "code",
   "execution_count": 1,
   "metadata": {
    "id": "_dbYzmrASc7Y"
   },
   "outputs": [],
   "source": [
    "import numpy as np\n",
    "import pandas as pd\n",
    "import scipy \n",
    "import sklearn\n",
    "from collections import Counter\n",
    "from sklearn.metrics import multilabel_confusion_matrix\n",
    "from scipy import spatial\n",
    "\n",
    "\n",
    "\n",
    "\n",
    "\n"
   ]
  },
  {
   "cell_type": "code",
   "execution_count": 2,
   "metadata": {
    "id": "EV9TP3iyShn-"
   },
   "outputs": [],
   "source": [
    "data = pd.read_csv(r\"C:\\Users\\Lokesh\\Downloads\\kmeans_data\\data.csv\")\n",
    "labels = pd.read_csv(r\"C:\\Users\\Lokesh\\Downloads\\kmeans_data\\label.csv\",names=['label'],header=None)"
   ]
  },
  {
   "cell_type": "code",
   "execution_count": 3,
   "metadata": {
    "colab": {
     "base_uri": "https://localhost:8080/",
     "height": 279
    },
    "id": "lXkr77swV5H9",
    "outputId": "594e4fd9-a551-4eba-db09-ca78ad33dd65"
   },
   "outputs": [
    {
     "data": {
      "text/html": [
       "<div>\n",
       "<style scoped>\n",
       "    .dataframe tbody tr th:only-of-type {\n",
       "        vertical-align: middle;\n",
       "    }\n",
       "\n",
       "    .dataframe tbody tr th {\n",
       "        vertical-align: top;\n",
       "    }\n",
       "\n",
       "    .dataframe thead th {\n",
       "        text-align: right;\n",
       "    }\n",
       "</style>\n",
       "<table border=\"1\" class=\"dataframe\">\n",
       "  <thead>\n",
       "    <tr style=\"text-align: right;\">\n",
       "      <th></th>\n",
       "      <th>0</th>\n",
       "      <th>0.1</th>\n",
       "      <th>0.2</th>\n",
       "      <th>0.3</th>\n",
       "      <th>0.4</th>\n",
       "      <th>0.5</th>\n",
       "      <th>0.6</th>\n",
       "      <th>0.7</th>\n",
       "      <th>0.8</th>\n",
       "      <th>0.9</th>\n",
       "      <th>...</th>\n",
       "      <th>0.658</th>\n",
       "      <th>0.659</th>\n",
       "      <th>0.660</th>\n",
       "      <th>0.661</th>\n",
       "      <th>0.662</th>\n",
       "      <th>0.663</th>\n",
       "      <th>0.664</th>\n",
       "      <th>0.665</th>\n",
       "      <th>0.666</th>\n",
       "      <th>0.667</th>\n",
       "    </tr>\n",
       "  </thead>\n",
       "  <tbody>\n",
       "    <tr>\n",
       "      <th>0</th>\n",
       "      <td>0</td>\n",
       "      <td>0</td>\n",
       "      <td>0</td>\n",
       "      <td>0</td>\n",
       "      <td>0</td>\n",
       "      <td>0</td>\n",
       "      <td>0</td>\n",
       "      <td>0</td>\n",
       "      <td>0</td>\n",
       "      <td>0</td>\n",
       "      <td>...</td>\n",
       "      <td>0</td>\n",
       "      <td>0</td>\n",
       "      <td>0</td>\n",
       "      <td>0</td>\n",
       "      <td>0</td>\n",
       "      <td>0</td>\n",
       "      <td>0</td>\n",
       "      <td>0</td>\n",
       "      <td>0</td>\n",
       "      <td>0</td>\n",
       "    </tr>\n",
       "    <tr>\n",
       "      <th>1</th>\n",
       "      <td>0</td>\n",
       "      <td>0</td>\n",
       "      <td>0</td>\n",
       "      <td>0</td>\n",
       "      <td>0</td>\n",
       "      <td>0</td>\n",
       "      <td>0</td>\n",
       "      <td>0</td>\n",
       "      <td>0</td>\n",
       "      <td>0</td>\n",
       "      <td>...</td>\n",
       "      <td>0</td>\n",
       "      <td>0</td>\n",
       "      <td>0</td>\n",
       "      <td>0</td>\n",
       "      <td>0</td>\n",
       "      <td>0</td>\n",
       "      <td>0</td>\n",
       "      <td>0</td>\n",
       "      <td>0</td>\n",
       "      <td>0</td>\n",
       "    </tr>\n",
       "    <tr>\n",
       "      <th>2</th>\n",
       "      <td>0</td>\n",
       "      <td>0</td>\n",
       "      <td>0</td>\n",
       "      <td>0</td>\n",
       "      <td>0</td>\n",
       "      <td>0</td>\n",
       "      <td>0</td>\n",
       "      <td>0</td>\n",
       "      <td>0</td>\n",
       "      <td>0</td>\n",
       "      <td>...</td>\n",
       "      <td>0</td>\n",
       "      <td>0</td>\n",
       "      <td>0</td>\n",
       "      <td>0</td>\n",
       "      <td>0</td>\n",
       "      <td>0</td>\n",
       "      <td>0</td>\n",
       "      <td>0</td>\n",
       "      <td>0</td>\n",
       "      <td>0</td>\n",
       "    </tr>\n",
       "    <tr>\n",
       "      <th>3</th>\n",
       "      <td>0</td>\n",
       "      <td>0</td>\n",
       "      <td>0</td>\n",
       "      <td>0</td>\n",
       "      <td>0</td>\n",
       "      <td>0</td>\n",
       "      <td>0</td>\n",
       "      <td>0</td>\n",
       "      <td>0</td>\n",
       "      <td>0</td>\n",
       "      <td>...</td>\n",
       "      <td>0</td>\n",
       "      <td>0</td>\n",
       "      <td>0</td>\n",
       "      <td>0</td>\n",
       "      <td>0</td>\n",
       "      <td>0</td>\n",
       "      <td>0</td>\n",
       "      <td>0</td>\n",
       "      <td>0</td>\n",
       "      <td>0</td>\n",
       "    </tr>\n",
       "    <tr>\n",
       "      <th>4</th>\n",
       "      <td>0</td>\n",
       "      <td>0</td>\n",
       "      <td>0</td>\n",
       "      <td>0</td>\n",
       "      <td>0</td>\n",
       "      <td>0</td>\n",
       "      <td>0</td>\n",
       "      <td>0</td>\n",
       "      <td>0</td>\n",
       "      <td>0</td>\n",
       "      <td>...</td>\n",
       "      <td>0</td>\n",
       "      <td>0</td>\n",
       "      <td>0</td>\n",
       "      <td>0</td>\n",
       "      <td>0</td>\n",
       "      <td>0</td>\n",
       "      <td>0</td>\n",
       "      <td>0</td>\n",
       "      <td>0</td>\n",
       "      <td>0</td>\n",
       "    </tr>\n",
       "  </tbody>\n",
       "</table>\n",
       "<p>5 rows × 784 columns</p>\n",
       "</div>"
      ],
      "text/plain": [
       "   0  0.1  0.2  0.3  0.4  0.5  0.6  0.7  0.8  0.9  ...  0.658  0.659  0.660  \\\n",
       "0  0    0    0    0    0    0    0    0    0    0  ...      0      0      0   \n",
       "1  0    0    0    0    0    0    0    0    0    0  ...      0      0      0   \n",
       "2  0    0    0    0    0    0    0    0    0    0  ...      0      0      0   \n",
       "3  0    0    0    0    0    0    0    0    0    0  ...      0      0      0   \n",
       "4  0    0    0    0    0    0    0    0    0    0  ...      0      0      0   \n",
       "\n",
       "   0.661  0.662  0.663  0.664  0.665  0.666  0.667  \n",
       "0      0      0      0      0      0      0      0  \n",
       "1      0      0      0      0      0      0      0  \n",
       "2      0      0      0      0      0      0      0  \n",
       "3      0      0      0      0      0      0      0  \n",
       "4      0      0      0      0      0      0      0  \n",
       "\n",
       "[5 rows x 784 columns]"
      ]
     },
     "execution_count": 3,
     "metadata": {},
     "output_type": "execute_result"
    }
   ],
   "source": [
    "data.head()"
   ]
  },
  {
   "cell_type": "code",
   "execution_count": 4,
   "metadata": {
    "colab": {
     "base_uri": "https://localhost:8080/"
    },
    "id": "rJ7Y_7NYV_D8",
    "outputId": "92b64688-3165-471a-de26-d93a7f1d55c5"
   },
   "outputs": [
    {
     "data": {
      "text/plain": [
       "0        9999\n",
       "0.1      9999\n",
       "0.2      9999\n",
       "0.3      9999\n",
       "0.4      9999\n",
       "         ... \n",
       "0.663    9999\n",
       "0.664    9999\n",
       "0.665    9999\n",
       "0.666    9999\n",
       "0.667    9999\n",
       "Length: 784, dtype: int64"
      ]
     },
     "execution_count": 4,
     "metadata": {},
     "output_type": "execute_result"
    }
   ],
   "source": [
    "data.count()"
   ]
  },
  {
   "cell_type": "code",
   "execution_count": 5,
   "metadata": {
    "id": "En96rQIQSmV-"
   },
   "outputs": [],
   "source": [
    "#Split data\n",
    "from sklearn.model_selection import train_test_split\n",
    "train_data, test_data = train_test_split( data, test_size=0.08, random_state=42)\n",
    "train_labels, test_labels = train_test_split( labels, test_size=0.08, random_state=42)"
   ]
  },
  {
   "cell_type": "code",
   "execution_count": 6,
   "metadata": {
    "id": "NBERhOkrSrVR"
   },
   "outputs": [],
   "source": [
    "class KMeans:\n",
    "    \n",
    "    def calculate_SSE(self, centroid_value_dict, centroid_dict,data):\n",
    "        sse_data = 0\n",
    "        for i in centroid_dict:\n",
    "            sse_cluster = 0\n",
    "    \n",
    "            for j in centroid_dict[i]:\n",
    "                dp = list(data.iloc[int(j)])\n",
    "                for a,b in zip(centroid_value_dict[i],dp):\n",
    "                    sse_cluster += (a-b)**2\n",
    "            sse_data+=sse_cluster\n",
    "        return sse_data    \n",
    "    \n",
    "    def Initialize_Centroids(self,data,K):\n",
    "        m = data.shape[0]\n",
    "        centroid_value_dict={}\n",
    "        for i in range(K):\n",
    "            r = np.random.randint(0, m-1)\n",
    "            centroid_value_dict[i] = data.iloc[r]\n",
    "        return centroid_value_dict\n",
    "    \n",
    "    def jaccard_similarity(self,centroid, dp):\n",
    "        intersection = len(list(set(centroid).intersection(dp)))\n",
    "        union = (len(set(centroid)) + len(set(dp))) - intersection\n",
    "        return float(intersection) / union\n",
    "\n",
    "    def train_Kmeans(self,data,K,max_iter=20,mode=1,tol=10):\n",
    "        \n",
    "        centroid_value_dict = self.Initialize_Centroids(data,K)\n",
    "        new_centroid_value_dict = {}\n",
    "        count = 0\n",
    "        centroid_dict = {}\n",
    "        convergence = False\n",
    "        while((count<max_iter) and not convergence):\n",
    "            \n",
    "            for i in list(centroid_value_dict.keys()):\n",
    "                centroid_dict[i]=[]\n",
    "            for i in range(data.shape[0]):\n",
    "                x = data.iloc[i]\n",
    "                if mode==1 :\n",
    "                    distance_measure = [np.linalg.norm(x-centroid_value_dict[j])  for j in centroid_value_dict]\n",
    "                    idx = np.argmin(distance_measure)\n",
    "                    centroid_dict[idx].append(i)\n",
    "                elif mode==2 :\n",
    "                    distance_measure = [self.jaccard_similarity(list(x),centroid_value_dict[j]) for j in centroid_value_dict]\n",
    "                    idx = np.argmax(distance_measure)\n",
    "                    centroid_dict[idx].append(i)\n",
    "                elif mode==3 :\n",
    "                    distance_measure = [1-scipy.spatial.distance.cosine(x,list(centroid_value_dict[j]))  for j in centroid_value_dict]\n",
    "                    idx = np.argmax(distance_measure)\n",
    "                    centroid_dict[idx].append(i)\n",
    "                \n",
    "                prev_centroids=dict(centroid_value_dict)\n",
    "                \n",
    "            \n",
    "            for i in centroid_dict:\n",
    "                if len(centroid_dict[i]):\n",
    "                    dps_centroid = centroid_dict[i]\n",
    "                    centroid_value_dict[i] = np.average(data.iloc[dps_centroid],axis=0)\n",
    "            \n",
    "            \n",
    "            current_tol=-1\n",
    "            for i in centroid_value_dict:\n",
    "                prev_centroid_point = prev_centroids[i]\n",
    "                new_centroid_point = centroid_value_dict[i]\n",
    "                change = np.sum(np.absolute(new_centroid_point-prev_centroid_point))\n",
    "                current_tol = max(change, current_tol)\n",
    "                \n",
    "            print(\"Tolerance for the Iteration \",count,\": \",current_tol)\n",
    "            \n",
    "            count+=1\n",
    "            if (current_tol<10):\n",
    "                convergence = True\n",
    "                break\n",
    "           \n",
    "        return centroid_value_dict,centroid_dict\n",
    "    "
   ]
  },
  {
   "cell_type": "code",
   "execution_count": 7,
   "metadata": {
    "id": "QGLN4LFXStV4"
   },
   "outputs": [],
   "source": [
    "def predict_cluster_labels(C, S, labels):\n",
    "    '''\n",
    "    Input : C -> Centroids\n",
    "            S -> Set of Indicies corresponding to Centroid C\n",
    "            data -> Data used to form clusters\n",
    "    Output : Returns an array of size K having labels based on majority voting in the cluster\n",
    "    '''\n",
    "    cluster_labels = np.zeros(10,dtype=int)\n",
    "    for c in C:\n",
    "        labels_of_points = []\n",
    "        for point in S[c]:\n",
    "            labels_of_points.extend(labels.iloc[point])\n",
    "        counter = Counter(labels_of_points)\n",
    "        try:\n",
    "            cluster_labels[c] = max(counter, key=counter.get)\n",
    "        except:\n",
    "            cluster_labels[c] = np.random.randint(0,9)\n",
    "    return cluster_labels"
   ]
  },
  {
   "cell_type": "code",
   "execution_count": 8,
   "metadata": {
    "id": "7SL0ChykSvy8"
   },
   "outputs": [],
   "source": [
    "def jaccard_similarity(centroid, dp):\n",
    "        intersection = len(list(set(centroid).intersection(dp)))\n",
    "        union = (len(set(centroid)) + len(set(dp))) - intersection\n",
    "        return float(intersection) / union"
   ]
  },
  {
   "cell_type": "code",
   "execution_count": 9,
   "metadata": {
    "id": "VGwjGRKlToUZ"
   },
   "outputs": [],
   "source": [
    "def accuracy(centroids, centroid_Labels, test_data, true_labels, mode=1):\n",
    "    y_true = list(true_labels['label']);\n",
    "    y_pred = []\n",
    "    for index in range(test_data.shape[0]):\n",
    "        featureset = test_data.iloc[index]\n",
    "        if mode==1:\n",
    "            distances = [np.linalg.norm(featureset - centroids[centroid]) for centroid in centroids]\n",
    "            classification = distances.index(min(distances))\n",
    "            y_pred.append(centroid_Labels[classification])\n",
    "        elif mode==2:\n",
    "            similarity = [jaccard_similarity(featureset, centroids[centroid]) for centroid in centroids]\n",
    "            classification = similarity.index(max(similarity))\n",
    "            y_pred.append(centroid_Labels[classification]) \n",
    "        elif mode==3:\n",
    "            similarity = [1 - spatial.distance.cosine(featureset, centroids[centroid]) for centroid in centroids]\n",
    "            classification = similarity.index(max(similarity))\n",
    "            y_pred.append(centroid_Labels[classification])\n",
    "    denominator = test_data.shape[0]\n",
    "    correctly_classified = 0\n",
    "    for i in range(0,len(y_pred)):\n",
    "        if y_true[i] == y_pred[i]:\n",
    "            correctly_classified += 1\n",
    "    accuracy = correctly_classified/denominator\n",
    "    return accuracy"
   ]
  },
  {
   "cell_type": "code",
   "execution_count": 25,
   "metadata": {},
   "outputs": [
    {
     "name": "stdout",
     "output_type": "stream",
     "text": [
      "Tolerance for the Iteration  0 :  26835.021276595744\n",
      "Tolerance for the Iteration  1 :  8089.031606537157\n",
      "Tolerance for the Iteration  2 :  4577.67268844628\n",
      "Tolerance for the Iteration  3 :  3244.790173517833\n",
      "Tolerance for the Iteration  4 :  2543.2231515370804\n",
      "Tolerance for the Iteration  5 :  2016.733187138835\n",
      "Tolerance for the Iteration  6 :  1743.6473490541593\n",
      "Tolerance for the Iteration  7 :  1214.7696585903084\n",
      "Tolerance for the Iteration  8 :  1171.4062861271677\n",
      "Tolerance for the Iteration  9 :  988.257009716988\n",
      "Tolerance for the Iteration  10 :  951.721840057171\n",
      "Tolerance for the Iteration  11 :  996.118424091266\n",
      "Tolerance for the Iteration  12 :  852.8440161988551\n",
      "Tolerance for the Iteration  13 :  851.1574336969385\n",
      "Tolerance for the Iteration  14 :  880.4474538312295\n",
      "Tolerance for the Iteration  15 :  891.8852054371332\n",
      "Tolerance for the Iteration  16 :  1026.1602077247644\n",
      "Tolerance for the Iteration  17 :  1157.9671049257527\n",
      "Tolerance for the Iteration  18 :  1230.21227519196\n",
      "Tolerance for the Iteration  19 :  778.631079372577\n",
      "Tolerance for the Iteration  20 :  538.9880877470243\n",
      "Tolerance for the Iteration  21 :  466.8090460319096\n",
      "Tolerance for the Iteration  22 :  499.2574320247978\n",
      "Tolerance for the Iteration  23 :  399.04700012269416\n",
      "Tolerance for the Iteration  24 :  316.17287817284875\n",
      "Tolerance for the Iteration  25 :  359.77843244303125\n",
      "Tolerance for the Iteration  26 :  242.1281535939069\n",
      "Tolerance for the Iteration  27 :  227.66991758241767\n",
      "Tolerance for the Iteration  28 :  160.70157309165955\n",
      "Tolerance for the Iteration  29 :  211.14277600634057\n",
      "Tolerance for the Iteration  30 :  182.37795019471253\n",
      "Tolerance for the Iteration  31 :  130.73851270505423\n",
      "Tolerance for the Iteration  32 :  149.21382737200574\n",
      "Tolerance for the Iteration  33 :  119.22470609999542\n",
      "Tolerance for the Iteration  34 :  136.31369089133796\n",
      "Tolerance for the Iteration  35 :  102.88569186776408\n",
      "Tolerance for the Iteration  36 :  85.3901171711535\n",
      "Tolerance for the Iteration  37 :  96.38641245176845\n",
      "Tolerance for the Iteration  38 :  56.71654608899192\n",
      "Tolerance for the Iteration  39 :  65.18324289405686\n",
      "Tolerance for the Iteration  40 :  94.98154798444884\n",
      "Tolerance for the Iteration  41 :  78.68044327537653\n",
      "Tolerance for the Iteration  42 :  82.07615209545344\n",
      "Tolerance for the Iteration  43 :  90.55611025172266\n",
      "Tolerance for the Iteration  44 :  81.74630739381806\n",
      "Tolerance for the Iteration  45 :  51.861815975286774\n",
      "Tolerance for the Iteration  46 :  44.21310813880989\n",
      "Tolerance for the Iteration  47 :  41.64524003254702\n",
      "Tolerance for the Iteration  48 :  45.03241964525142\n",
      "Tolerance for the Iteration  49 :  37.31654531197491\n",
      "Tolerance for the Iteration  50 :  26.19306725122\n",
      "Tolerance for the Iteration  51 :  20.796278102482418\n",
      "Tolerance for the Iteration  52 :  0.0\n"
     ]
    }
   ],
   "source": [
    "model_x = KMeans()\n",
    "centroids1,clusters1 = model_x.train_Kmeans(data,10, max_iter=100,mode=1)"
   ]
  },
  {
   "cell_type": "code",
   "execution_count": 11,
   "metadata": {
    "id": "7LrEbCl4TwCM"
   },
   "outputs": [],
   "source": [
    "Euclidean_SSE = model_x.calculate_SSE(centroids1,clusters1,data)"
   ]
  },
  {
   "cell_type": "code",
   "execution_count": 12,
   "metadata": {
    "colab": {
     "base_uri": "https://localhost:8080/"
    },
    "id": "CfxW39oyTx69",
    "outputId": "b0cbbeb1-b682-486f-ac85-8d086a14b842"
   },
   "outputs": [
    {
     "name": "stdout",
     "output_type": "stream",
     "text": [
      "Euclidean SSE: 25321672765.52289\n"
     ]
    }
   ],
   "source": [
    "print(\"Euclidean SSE:\",Euclidean_SSE)"
   ]
  },
  {
   "cell_type": "code",
   "execution_count": 13,
   "metadata": {
    "colab": {
     "base_uri": "https://localhost:8080/"
    },
    "id": "eea051f0",
    "outputId": "68ca37f3-6173-4d84-cdb4-f5bebbd9ea70"
   },
   "outputs": [
    {
     "data": {
      "text/plain": [
       "array([5, 3, 0, 4, 6, 0, 7, 1, 2, 9])"
      ]
     },
     "execution_count": 13,
     "metadata": {},
     "output_type": "execute_result"
    }
   ],
   "source": [
    "cluster_labels_a = predict_cluster_labels(centroids1,clusters1,labels)\n",
    "cluster_labels_a"
   ]
  },
  {
   "cell_type": "code",
   "execution_count": 14,
   "metadata": {
    "colab": {
     "base_uri": "https://localhost:8080/"
    },
    "id": "7626677d",
    "outputId": "98c2e945-2278-476a-b0a3-243d8da39b60"
   },
   "outputs": [
    {
     "data": {
      "text/plain": [
       "0.08875"
      ]
     },
     "execution_count": 14,
     "metadata": {},
     "output_type": "execute_result"
    }
   ],
   "source": [
    "Euclidean_Acc = accuracy(centroids1, cluster_labels_a,test_data,test_labels)\n",
    "Euclidean_Acc"
   ]
  },
  {
   "cell_type": "code",
   "execution_count": 15,
   "metadata": {
    "colab": {
     "base_uri": "https://localhost:8080/"
    },
    "id": "60746ea3",
    "outputId": "adb57a0b-0d95-442c-8556-5dc649de2699"
   },
   "outputs": [
    {
     "name": "stdout",
     "output_type": "stream",
     "text": [
      "Tolerance for the Iteration  0 :  37428.56123822341\n",
      "Tolerance for the Iteration  1 :  3177.602712860804\n",
      "Tolerance for the Iteration  2 :  1400.868024017288\n",
      "Tolerance for the Iteration  3 :  2126.5286869657316\n",
      "Tolerance for the Iteration  4 :  3095.095201272705\n",
      "Tolerance for the Iteration  5 :  1016.1113896881915\n",
      "Tolerance for the Iteration  6 :  780.9275363777988\n",
      "Tolerance for the Iteration  7 :  1875.8730362192846\n",
      "Tolerance for the Iteration  8 :  1038.265967811356\n",
      "Tolerance for the Iteration  9 :  2114.52637337134\n",
      "Tolerance for the Iteration  10 :  1308.3374630613744\n",
      "Tolerance for the Iteration  11 :  1269.4103742052457\n",
      "Tolerance for the Iteration  12 :  0.0\n"
     ]
    }
   ],
   "source": [
    "model_y = KMeans()\n",
    "centroids2,clusters2 = model_y.train_Kmeans(data,10, max_iter=100,mode=2)\n",
    "Jaccard_SSE = model_y.calculate_SSE(centroids2,clusters2,data)"
   ]
  },
  {
   "cell_type": "code",
   "execution_count": 16,
   "metadata": {
    "colab": {
     "base_uri": "https://localhost:8080/"
    },
    "id": "3d9f8277",
    "outputId": "0f761618-315b-4cc9-ca2d-88a3a6d8be36"
   },
   "outputs": [
    {
     "name": "stdout",
     "output_type": "stream",
     "text": [
      "Jacard SSE: 34361687572.938736\n"
     ]
    }
   ],
   "source": [
    "print(\"Jacard SSE:\",Jaccard_SSE)"
   ]
  },
  {
   "cell_type": "code",
   "execution_count": 17,
   "metadata": {
    "colab": {
     "base_uri": "https://localhost:8080/"
    },
    "id": "5ca9e8fd",
    "outputId": "805793e3-63ee-4071-a3ec-14c496d913f9"
   },
   "outputs": [
    {
     "data": {
      "text/plain": [
       "array([1, 1, 6, 3, 0, 1, 7, 6, 4, 7])"
      ]
     },
     "execution_count": 17,
     "metadata": {},
     "output_type": "execute_result"
    }
   ],
   "source": [
    "cluster_labels_b = predict_cluster_labels(centroids2,clusters2,labels)\n",
    "cluster_labels_b"
   ]
  },
  {
   "cell_type": "code",
   "execution_count": 18,
   "metadata": {
    "colab": {
     "base_uri": "https://localhost:8080/"
    },
    "id": "7813fdeb",
    "outputId": "0792c282-76ba-427c-a108-b89b5c5ee4fc"
   },
   "outputs": [
    {
     "data": {
      "text/plain": [
       "0.1075"
      ]
     },
     "execution_count": 18,
     "metadata": {},
     "output_type": "execute_result"
    }
   ],
   "source": [
    "Jaccard_Acc = accuracy(centroids2, cluster_labels_b,test_data,test_labels)\n",
    "Jaccard_Acc"
   ]
  },
  {
   "cell_type": "code",
   "execution_count": 26,
   "metadata": {
    "colab": {
     "base_uri": "https://localhost:8080/"
    },
    "id": "6e31f4b7",
    "outputId": "bb2bf437-aed3-4216-c72c-82ddb18099a0",
    "scrolled": true
   },
   "outputs": [
    {
     "name": "stdout",
     "output_type": "stream",
     "text": [
      "Tolerance for the Iteration  0 :  26372.742817098806\n",
      "Tolerance for the Iteration  1 :  6573.116861296968\n",
      "Tolerance for the Iteration  2 :  3474.2398364916194\n",
      "Tolerance for the Iteration  3 :  2516.180864197531\n",
      "Tolerance for the Iteration  4 :  2266.456030389363\n",
      "Tolerance for the Iteration  5 :  2253.115678730883\n",
      "Tolerance for the Iteration  6 :  3989.8399908172632\n",
      "Tolerance for the Iteration  7 :  3685.77902237927\n",
      "Tolerance for the Iteration  8 :  2166.5770375965553\n",
      "Tolerance for the Iteration  9 :  2151.413541352628\n",
      "Tolerance for the Iteration  10 :  2090.9093569750053\n",
      "Tolerance for the Iteration  11 :  1274.9357447792377\n",
      "Tolerance for the Iteration  12 :  1202.500276054953\n",
      "Tolerance for the Iteration  13 :  880.1679785838386\n",
      "Tolerance for the Iteration  14 :  694.4094304388423\n",
      "Tolerance for the Iteration  15 :  478.4292209151335\n",
      "Tolerance for the Iteration  16 :  381.3271785886092\n",
      "Tolerance for the Iteration  17 :  263.7121729270705\n",
      "Tolerance for the Iteration  18 :  194.3730247669269\n",
      "Tolerance for the Iteration  19 :  207.10845310274954\n",
      "Tolerance for the Iteration  20 :  177.36728917612493\n",
      "Tolerance for the Iteration  21 :  103.04047190723247\n",
      "Tolerance for the Iteration  22 :  81.80769986650407\n",
      "Tolerance for the Iteration  23 :  106.82715219751559\n",
      "Tolerance for the Iteration  24 :  96.79656547129744\n",
      "Tolerance for the Iteration  25 :  66.88599969352144\n",
      "Tolerance for the Iteration  26 :  63.03444998608637\n",
      "Tolerance for the Iteration  27 :  60.77962802675041\n",
      "Tolerance for the Iteration  28 :  65.43029054219909\n",
      "Tolerance for the Iteration  29 :  36.945861202748205\n",
      "Tolerance for the Iteration  30 :  50.47376970358521\n",
      "Tolerance for the Iteration  31 :  22.90112794572443\n",
      "Tolerance for the Iteration  32 :  22.342768190214215\n",
      "Tolerance for the Iteration  33 :  0.0\n"
     ]
    }
   ],
   "source": [
    "model_z = KMeans()\n",
    "centroids3,clusters3 = model_z.train_Kmeans(data,10, max_iter = 100,mode=3)"
   ]
  },
  {
   "cell_type": "code",
   "execution_count": 20,
   "metadata": {
    "id": "8aa0a82b"
   },
   "outputs": [],
   "source": [
    "Cosine_SSE = model_z.calculate_SSE(centroids3,clusters3,data)"
   ]
  },
  {
   "cell_type": "code",
   "execution_count": 21,
   "metadata": {
    "colab": {
     "base_uri": "https://localhost:8080/"
    },
    "id": "16a764e2",
    "outputId": "efbae869-5986-486a-cde1-0864a03c0956"
   },
   "outputs": [
    {
     "name": "stdout",
     "output_type": "stream",
     "text": [
      "Euclidean SSE: 25321672765.52289\n",
      "Jacard SSE: 34361687572.938736\n",
      "Cosine SSE : 25553361774.674137\n"
     ]
    }
   ],
   "source": [
    "print(\"Euclidean SSE:\",Euclidean_SSE)\n",
    "print(\"Jacard SSE:\",Jaccard_SSE)\n",
    "print(\"Cosine SSE :\",Cosine_SSE)"
   ]
  },
  {
   "cell_type": "code",
   "execution_count": 22,
   "metadata": {
    "colab": {
     "base_uri": "https://localhost:8080/"
    },
    "id": "463448d8",
    "outputId": "718ecbda-663e-4766-ec65-2e888138c067"
   },
   "outputs": [
    {
     "data": {
      "text/plain": [
       "array([9, 3, 0, 2, 1, 7, 0, 3, 8, 4])"
      ]
     },
     "execution_count": 22,
     "metadata": {},
     "output_type": "execute_result"
    }
   ],
   "source": [
    "cluster_labels_c = predict_cluster_labels(centroids3,clusters3,labels)\n",
    "cluster_labels_c"
   ]
  },
  {
   "cell_type": "code",
   "execution_count": 23,
   "metadata": {
    "colab": {
     "base_uri": "https://localhost:8080/"
    },
    "id": "d556ab88",
    "outputId": "01eb9cbc-1d9b-4c7f-b9c6-f6bc5106224b"
   },
   "outputs": [
    {
     "data": {
      "text/plain": [
       "0.07625"
      ]
     },
     "execution_count": 23,
     "metadata": {},
     "output_type": "execute_result"
    }
   ],
   "source": [
    "Cosine_Acc = accuracy(centroids3, cluster_labels_c,test_data,test_labels)\n",
    "Euclidean_Acc\n",
    "Jaccard_Acc\n",
    "Cosine_Acc"
   ]
  },
  {
   "cell_type": "code",
   "execution_count": 24,
   "metadata": {
    "colab": {
     "base_uri": "https://localhost:8080/"
    },
    "id": "77gOgz9UseAY",
    "outputId": "a4308873-f0c5-4963-8602-72d71d180b8d"
   },
   "outputs": [
    {
     "name": "stdout",
     "output_type": "stream",
     "text": [
      "Euclidean accuracy: 0.08875\n",
      "Jacard accuracy: 0.1075\n",
      "Cosine accuracy : 0.07625\n"
     ]
    }
   ],
   "source": [
    "print(\"Euclidean accuracy:\",Euclidean_Acc)\n",
    "print(\"Jacard accuracy:\",Jaccard_Acc)\n",
    "print(\"Cosine accuracy :\",Cosine_Acc)"
   ]
  },
  {
   "cell_type": "code",
   "execution_count": null,
   "metadata": {},
   "outputs": [],
   "source": []
  }
 ],
 "metadata": {
  "colab": {
   "provenance": []
  },
  "kernelspec": {
   "display_name": "Python 3 (ipykernel)",
   "language": "python",
   "name": "python3"
  },
  "language_info": {
   "codemirror_mode": {
    "name": "ipython",
    "version": 3
   },
   "file_extension": ".py",
   "mimetype": "text/x-python",
   "name": "python",
   "nbconvert_exporter": "python",
   "pygments_lexer": "ipython3",
   "version": "3.9.7"
  }
 },
 "nbformat": 4,
 "nbformat_minor": 1
}
